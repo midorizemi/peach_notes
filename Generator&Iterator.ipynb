{
 "cells": [
  {
   "cell_type": "markdown",
   "metadata": {},
   "source": [
    "# 勉強： ジェネレータをイテレータから理解するを読んだ．\n",
    "\n",
    "[Python: ジェネレータをイテレータから理解する](https://blog.amedama.jp/entry/2017/11/23/213233)をよんで，ジェネレータとイテレータについて勉強した．\n",
    "ほとんどトレースみたいになっちゃうけど，ところどころメモとか入れていく．\n",
    "## イテレータとは\n",
    "イテレータについて，いくつかの側面から見た実態を例にとって解説されていた．  \n",
    "個人的に，忘れていたのがリストとかの ==コンテナオブジェクトはイテレータではない== ．という点．\n",
    "あと，使い方もよくわかっていなかったのでメモしてく．"
   ]
  },
  {
   "cell_type": "code",
   "execution_count": 4,
   "metadata": {},
   "outputs": [],
   "source": [
    "list = [1, 2, 3]"
   ]
  },
  {
   "cell_type": "markdown",
   "metadata": {},
   "source": [
    "listを作って，イテレータオブジェクトをコンテナオブジェクトから取り出す．  \n",
    "イテレータは組み込み関数 `iter()` を使う．"
   ]
  },
  {
   "cell_type": "code",
   "execution_count": 20,
   "metadata": {},
   "outputs": [],
   "source": [
    "iterator_object = iter(list)"
   ]
  },
  {
   "cell_type": "markdown",
   "metadata": {},
   "source": [
    "ここで重要なのが， __コンテナオブジェクトはイテレータではない__ ということ．一般論では，コンテナ型とは複数のオブジェクトの集まりを表現するデータ構造の総称である．その中に，特にPythonでは，シーケンス型の`list, tuple, str`がある．文字列はイミュータブルな文字シーケンス．また，集合型の`set, frozenset`，そして，辞書型の`dict`である．集合型は要素の重複と順序がないデータ構造で，`frozenset`はイミュータブルなもの．辞書型はキーとオブジェクトを持つデータ構造．\n",
    "\n",
    "もっと厳密にいうとPythonでは,イテレータが使えるオブジェクトをイテレータブルなオブジェクトと言って，`__iter__`メソッドが定義されているオブジェクトで，イテレータは`__iter__`と`__next__`オブジェクトが定義されているオブジェクトのことをいう．コンテナオブジェクトは，`__contains__`を定義されたオブジェクトである．だけど，常識的に，先の一般論で述べたけどコンテナ型は総じてイテレータブルであると言っていい．\n",
    "\n",
    "だから，実は，参照した記事の記載はちょっとだけニュアンスが違っていて，コンテナオブジェクトに`__iter__`を実装したものみたいに読めるけど，厳密にはそうではない．\n",
    "\n",
    "イテレータからは，取り出した元のlistオブジェクトの要素オブジェクトを参照する．  \n",
    "実際に取り出すときには`next()`を使う．"
   ]
  },
  {
   "cell_type": "code",
   "execution_count": 21,
   "metadata": {},
   "outputs": [
    {
     "data": {
      "text/plain": [
       "1"
      ]
     },
     "execution_count": 21,
     "metadata": {},
     "output_type": "execute_result"
    }
   ],
   "source": [
    "next(iterator_object)"
   ]
  },
  {
   "cell_type": "code",
   "execution_count": 22,
   "metadata": {},
   "outputs": [
    {
     "data": {
      "text/plain": [
       "2"
      ]
     },
     "execution_count": 22,
     "metadata": {},
     "output_type": "execute_result"
    }
   ],
   "source": [
    "next(iterator_object)"
   ]
  },
  {
   "cell_type": "code",
   "execution_count": 23,
   "metadata": {},
   "outputs": [
    {
     "data": {
      "text/plain": [
       "3"
      ]
     },
     "execution_count": 23,
     "metadata": {},
     "output_type": "execute_result"
    }
   ],
   "source": [
    "next(iterator_object)"
   ]
  },
  {
   "cell_type": "code",
   "execution_count": 24,
   "metadata": {},
   "outputs": [
    {
     "ename": "StopIteration",
     "evalue": "",
     "output_type": "error",
     "traceback": [
      "\u001b[0;31m---------------------------------------------------------------------------\u001b[0m",
      "\u001b[0;31mStopIteration\u001b[0m                             Traceback (most recent call last)",
      "\u001b[0;32m<ipython-input-24-c06eadb484b5>\u001b[0m in \u001b[0;36m<module>\u001b[0;34m()\u001b[0m\n\u001b[0;32m----> 1\u001b[0;31m \u001b[0mnext\u001b[0m\u001b[0;34m(\u001b[0m\u001b[0miterator_object\u001b[0m\u001b[0;34m)\u001b[0m\u001b[0;34m\u001b[0m\u001b[0m\n\u001b[0m",
      "\u001b[0;31mStopIteration\u001b[0m: "
     ]
    }
   ],
   "source": [
    "next(iterator_object)"
   ]
  },
  {
   "cell_type": "markdown",
   "metadata": {},
   "source": [
    "全部の要素を参照したあとに`next()`を実行するとStopIteration例外になる．この段階でlistの要素にはアクセスできない．  \n",
    "イテレータオブジェクトは __使い捨て__ であることに注意．さらに，イテレータはあくまで参照なのでlistのコピーではないことに注意．\n",
    "\n",
    "for文とかは，実は暗黙的に，イミュータブルな型からiter()を実行してイテレータでnext()参照している．"
   ]
  },
  {
   "cell_type": "code",
   "execution_count": 30,
   "metadata": {},
   "outputs": [
    {
     "data": {
      "text/plain": [
       "[1]"
      ]
     },
     "execution_count": 30,
     "metadata": {},
     "output_type": "execute_result"
    }
   ],
   "source": [
    "hoge = ([1], 3, [4])\n",
    "hoge_itr = iter(hoge)\n",
    "next(hoge_itr)"
   ]
  },
  {
   "cell_type": "code",
   "execution_count": 33,
   "metadata": {},
   "outputs": [
    {
     "data": {
      "text/plain": [
       "([1], 3, [4, 5, 5])"
      ]
     },
     "execution_count": 33,
     "metadata": {},
     "output_type": "execute_result"
    }
   ],
   "source": [
    "hoge[2].append(5)\n",
    "hoge"
   ]
  },
  {
   "cell_type": "code",
   "execution_count": 34,
   "metadata": {},
   "outputs": [
    {
     "data": {
      "text/plain": [
       "3"
      ]
     },
     "execution_count": 34,
     "metadata": {},
     "output_type": "execute_result"
    }
   ],
   "source": [
    "next(hoge_itr)"
   ]
  },
  {
   "cell_type": "code",
   "execution_count": 35,
   "metadata": {},
   "outputs": [
    {
     "data": {
      "text/plain": [
       "[4, 5, 5]"
      ]
     },
     "execution_count": 35,
     "metadata": {},
     "output_type": "execute_result"
    }
   ],
   "source": [
    "next(hoge_itr)"
   ]
  },
  {
   "cell_type": "markdown",
   "metadata": {},
   "source": [
    "イテレータの最大の利点はインタフェースの統一．いくつものコンテナ型がforとかで列挙できること．  \n",
    "メモリの節約に関してはちょっとよくわからなかった．イテレータの定義から見れば，元のコンテナオブジェクトを参照するわけだから，メモリの節約には貢献できないはず．\n",
    "\n",
    "## ジェネレータとは\n",
    "イテレータを簡単に実装するための手段．  \n",
    "とりあえず，下のiterableなクラスの実装を見てみる．コードは[こちらのQiitaの解説記事から](https://qiita.com/knknkn1162/items/17f7f370a2cc27f812ee#container)引用している．何を言いたいかというと，とにかく面倒くさい．ということ．そこで出てくるのがジェネレータ．"
   ]
  },
  {
   "cell_type": "code",
   "execution_count": 37,
   "metadata": {},
   "outputs": [],
   "source": [
    "import collections.abc\n",
    "### 引用：https://qiita.com/knknkn1162/items/17f7f370a2cc27f812ee#container\n",
    "\n",
    "# iterableであるために\n",
    "# __iter__(iteration/iterator protocol : 反復プロトコルというらしい)を実装する\n",
    "class Foo(collections.abc.Iterable):\n",
    "    def __init__(self):\n",
    "        self._L = [0,1,2]\n",
    "\n",
    "    def __iter__(self):\n",
    "        return FooIterator(self)\n",
    "\n",
    "#  __next__を実装する必要がある\n",
    "## (collections.abc.Iteratorを継承しているので、__iter__は自然と定義される)\n",
    "class FooIterator(collections.abc.Iterator):\n",
    "    def __init__(self, foo): # fooはiterableなオブジェクト\n",
    "        self._i = 0\n",
    "        self._foo = foo\n",
    "\n",
    "    def __next__(self):\n",
    "        try:\n",
    "            v = self._foo._L[self._i]\n",
    "            self._i += 1\n",
    "            return v\n",
    "        # StopIteration(RuntimeError)を送出する\n",
    "        except IndexError:\n",
    "            raise StopIteration"
   ]
  },
  {
   "cell_type": "markdown",
   "metadata": {},
   "source": [
    "とにかく，わざわざイテレータを使いたいがためにこんな事をしないといけないのは正直しんどい．そんな時にジェネレータという特殊な関数を用いる．\n",
    "実際に，上記のコードをジェネレータで書き直す．"
   ]
  },
  {
   "cell_type": "code",
   "execution_count": 42,
   "metadata": {},
   "outputs": [
    {
     "data": {
      "text/plain": [
       "0"
      ]
     },
     "execution_count": 42,
     "metadata": {},
     "output_type": "execute_result"
    }
   ],
   "source": [
    "def foo():\n",
    "    L = [0,1,2]\n",
    "    i = 0\n",
    "    while True:\n",
    "        try:\n",
    "            yield L[i]\n",
    "            i+=1\n",
    "        except IndexError:\n",
    "            raise StopIteration\n",
    "foo_itr = foo()\n",
    "next(foo_itr)"
   ]
  },
  {
   "cell_type": "code",
   "execution_count": 43,
   "metadata": {},
   "outputs": [
    {
     "data": {
      "text/plain": [
       "1"
      ]
     },
     "execution_count": 43,
     "metadata": {},
     "output_type": "execute_result"
    }
   ],
   "source": [
    "next(foo_itr)"
   ]
  },
  {
   "cell_type": "code",
   "execution_count": 44,
   "metadata": {},
   "outputs": [
    {
     "data": {
      "text/plain": [
       "2"
      ]
     },
     "execution_count": 44,
     "metadata": {},
     "output_type": "execute_result"
    }
   ],
   "source": [
    "next(foo_itr)"
   ]
  },
  {
   "cell_type": "code",
   "execution_count": 45,
   "metadata": {},
   "outputs": [
    {
     "name": "stderr",
     "output_type": "stream",
     "text": [
      "/home/tiwasaki/.pyenv/versions/3.6.5/envs/opencv/lib/python3.6/site-packages/ipykernel_launcher.py:1: DeprecationWarning: generator 'foo' raised StopIteration\n",
      "  \"\"\"Entry point for launching an IPython kernel.\n"
     ]
    },
    {
     "ename": "StopIteration",
     "evalue": "",
     "output_type": "error",
     "traceback": [
      "\u001b[0;31m---------------------------------------------------------------------------\u001b[0m",
      "\u001b[0;31mIndexError\u001b[0m                                Traceback (most recent call last)",
      "\u001b[0;32m<ipython-input-42-afbf29068e9b>\u001b[0m in \u001b[0;36mfoo\u001b[0;34m()\u001b[0m\n\u001b[1;32m      5\u001b[0m         \u001b[0;32mtry\u001b[0m\u001b[0;34m:\u001b[0m\u001b[0;34m\u001b[0m\u001b[0m\n\u001b[0;32m----> 6\u001b[0;31m             \u001b[0;32myield\u001b[0m \u001b[0mL\u001b[0m\u001b[0;34m[\u001b[0m\u001b[0mi\u001b[0m\u001b[0;34m]\u001b[0m\u001b[0;34m\u001b[0m\u001b[0m\n\u001b[0m\u001b[1;32m      7\u001b[0m             \u001b[0mi\u001b[0m\u001b[0;34m+=\u001b[0m\u001b[0;36m1\u001b[0m\u001b[0;34m\u001b[0m\u001b[0m\n",
      "\u001b[0;31mIndexError\u001b[0m: list index out of range",
      "\nDuring handling of the above exception, another exception occurred:\n",
      "\u001b[0;31mStopIteration\u001b[0m                             Traceback (most recent call last)",
      "\u001b[0;32m<ipython-input-45-54388a4d81b5>\u001b[0m in \u001b[0;36m<module>\u001b[0;34m()\u001b[0m\n\u001b[0;32m----> 1\u001b[0;31m \u001b[0mnext\u001b[0m\u001b[0;34m(\u001b[0m\u001b[0mfoo_itr\u001b[0m\u001b[0;34m)\u001b[0m\u001b[0;34m\u001b[0m\u001b[0m\n\u001b[0m",
      "\u001b[0;32m<ipython-input-42-afbf29068e9b>\u001b[0m in \u001b[0;36mfoo\u001b[0;34m()\u001b[0m\n\u001b[1;32m      7\u001b[0m             \u001b[0mi\u001b[0m\u001b[0;34m+=\u001b[0m\u001b[0;36m1\u001b[0m\u001b[0;34m\u001b[0m\u001b[0m\n\u001b[1;32m      8\u001b[0m         \u001b[0;32mexcept\u001b[0m \u001b[0mIndexError\u001b[0m\u001b[0;34m:\u001b[0m\u001b[0;34m\u001b[0m\u001b[0m\n\u001b[0;32m----> 9\u001b[0;31m             \u001b[0;32mraise\u001b[0m \u001b[0mStopIteration\u001b[0m\u001b[0;34m\u001b[0m\u001b[0m\n\u001b[0m\u001b[1;32m     10\u001b[0m \u001b[0mfoo_itr\u001b[0m \u001b[0;34m=\u001b[0m \u001b[0mfoo\u001b[0m\u001b[0;34m(\u001b[0m\u001b[0;34m)\u001b[0m\u001b[0;34m\u001b[0m\u001b[0m\n\u001b[1;32m     11\u001b[0m \u001b[0mnext\u001b[0m\u001b[0;34m(\u001b[0m\u001b[0mfoo_itr\u001b[0m\u001b[0;34m)\u001b[0m\u001b[0;34m\u001b[0m\u001b[0m\n",
      "\u001b[0;31mStopIteration\u001b[0m: "
     ]
    }
   ],
   "source": [
    "next(foo_itr)"
   ]
  },
  {
   "cell_type": "markdown",
   "metadata": {},
   "source": [
    "ということで，簡単になった．じっさいにfoo()はどんなオブジェクトかみてみたい．"
   ]
  },
  {
   "cell_type": "code",
   "execution_count": 46,
   "metadata": {},
   "outputs": [
    {
     "data": {
      "text/plain": [
       "generator"
      ]
     },
     "execution_count": 46,
     "metadata": {},
     "output_type": "execute_result"
    }
   ],
   "source": [
    "type(foo_itr)"
   ]
  },
  {
   "cell_type": "markdown",
   "metadata": {},
   "source": [
    "これはジェネレータイテレータオブジェクトというらしい．面倒だからジェネレータでいいと思う．  \n",
    "重要なのは，`yield`がイテレータの`__next__`特殊関数に対応している．という点．イテレータではないけど，まるでイテレータのように振る舞う．オブジェクトであることがわかった．\n",
    "\n",
    "### ジェネレータの最大の利点\n",
    "これこそメモリの節約だと思われる．例えば，数列など無限にあるものはジェネレータが最適．更に巨大なファイル読み込みなども注目したい．\n",
    "\n",
    "## 参考にしたサイト\n",
    "[1](https://blog.amedama.jp/entry/2017/11/23/213233)\n",
    "[2](https://qiita.com/knknkn1162/items/17f7f370a2cc27f812ee#container)"
   ]
  },
  {
   "cell_type": "code",
   "execution_count": null,
   "metadata": {},
   "outputs": [],
   "source": []
  }
 ],
 "metadata": {
  "kernelspec": {
   "display_name": "Python 3",
   "language": "python",
   "name": "python3"
  },
  "language_info": {
   "codemirror_mode": {
    "name": "ipython",
    "version": 3
   },
   "file_extension": ".py",
   "mimetype": "text/x-python",
   "name": "python",
   "nbconvert_exporter": "python",
   "pygments_lexer": "ipython3",
   "version": "3.6.5"
  }
 },
 "nbformat": 4,
 "nbformat_minor": 2
}
